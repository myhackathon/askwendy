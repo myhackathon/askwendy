{
  "cells": [
    {
      "cell_type": "code",
      "execution_count": null,
      "metadata": {
        "id": "rGOx_QzXnxIw"
      },
      "outputs": [],
      "source": [
        "!pip install gradio\n",
        "!pip install openai"
      ]
    },
    {
      "cell_type": "code",
      "execution_count": null,
      "metadata": {},
      "outputs": [],
      "source": [
        "# Run this if in google colab\n",
        "import sys\n",
        "\n",
        "# Using secrets manager in colab\n",
        "if \"google.colab\" in sys.modules:\n",
        "    # Get environment variables\n",
        "    from google.colab import userdata\n",
        "    userdata.get('OPENAI_API_KEY') # can use the value directly from here or via the .env"
      ]
    },
    {
      "cell_type": "code",
      "execution_count": null,
      "metadata": {},
      "outputs": [],
      "source": [
        "import os\n",
        "OPENAI_API_KEY = os.env(\"OPENAI_API_KEY\") # set the API KEY"
      ]
    },
    {
      "cell_type": "code",
      "execution_count": null,
      "metadata": {
        "id": "NPsTHD4EnaSp"
      },
      "outputs": [],
      "source": [
        "import gradio as gr\n",
        "from openai import OpenAI\n",
        "\n",
        "client = OpenAI(\n",
        " # organization='org-xxx',\n",
        " # project='$PROJECT_ID',\n",
        "  api_key = OPENAI_API_KEY\n",
        ")\n",
        "\n"
      ]
    },
    {
      "cell_type": "code",
      "execution_count": 22,
      "metadata": {
        "id": "r1TEpvHepIO1"
      },
      "outputs": [],
      "source": [
        "interview_prompts = [\n",
        "    \"Tell me about yourself.\",\n",
        "    \"What are your strengths and weaknesses?\",\n",
        "    \"Describe a time you faced a challenge and how you overcame it.\",\n",
        "    \"Why are you interested in this position?\",\n",
        "    \"Introduce yourself and provide a brief overview of your background and experience.\",\n",
        "    \"Can you describe a time when you successfully led a team or project? What was the outcome?\",\n",
        "    \"Tell me about a challenging problem you encountered at work and how you solved it.\",\n",
        "    \"Provide an example of effective collaboration within a team. What was your role?\",\n",
        "    \"Describe a situation where you had to communicate complex information to a non-technical audience.\",\n",
        "    \"How have you handled significant changes or unexpected challenges in the workplace?\",\n",
        "    \"Give an example of a time when you successfully met a tight deadline. How did you prioritise your tasks?\",\n",
        "    \"Describe a situation where you took initiative to improve a process or procedure at work.\",\n",
        "    \"Can you share an experience of resolving a conflict with a colleague or team member?\",\n",
        "    \"Tell me about a difficult decision you had to make at work and how you approached it.\",\n",
        "    \"Provide an example of demonstrating excellent customer focus or satisfaction.\",\n",
        "]\n"
      ]
    },
    {
      "cell_type": "code",
      "execution_count": 23,
      "metadata": {
        "colab": {
          "base_uri": "https://localhost:8080/",
          "height": 684
        },
        "id": "GUl05pAencmF",
        "outputId": "ed963dca-ef7f-4ff4-987c-095572f15540"
      },
      "outputs": [
        {
          "name": "stderr",
          "output_type": "stream",
          "text": [
            "/usr/local/lib/python3.10/dist-packages/gradio/utils.py:961: UserWarning: Expected maximum 2 arguments for function <function process_interview at 0x7b37bc5cb880>, received 3.\n",
            "  warnings.warn(\n"
          ]
        },
        {
          "name": "stdout",
          "output_type": "stream",
          "text": [
            "Setting queue=True in a Colab notebook requires sharing enabled. Setting `share=True` (you can turn this off by setting `share=False` in `launch()` explicitly).\n",
            "\n",
            "Colab notebook detected. To show errors in colab notebook, set debug=True in launch()\n",
            "Running on public URL: https://11c26bd62facc6a981.gradio.live\n",
            "\n",
            "This share link expires in 72 hours. For free permanent hosting and GPU upgrades, run `gradio deploy` from Terminal to deploy to Spaces (https://huggingface.co/spaces)\n"
          ]
        },
        {
          "data": {
            "text/html": [
              "<div><iframe src=\"https://11c26bd62facc6a981.gradio.live\" width=\"100%\" height=\"500\" allow=\"autoplay; camera; microphone; clipboard-read; clipboard-write;\" frameborder=\"0\" allowfullscreen></iframe></div>"
            ],
            "text/plain": [
              "<IPython.core.display.HTML object>"
            ]
          },
          "metadata": {},
          "output_type": "display_data"
        },
        {
          "data": {
            "text/plain": []
          },
          "execution_count": 23,
          "metadata": {},
          "output_type": "execute_result"
        }
      ],
      "source": [
        "\n",
        "\n",
        "def process_interview(question_id, job_description=None):\n",
        "  # user_response = listen_user()\n",
        "  # if user_response is None:\n",
        "  #   return \"Sorry, I couldn't understand you. Please try again.\"\n",
        "\n",
        "  # feedback = process_input(question_id, user_response, job_description)\n",
        "  # speak(feedback)\n",
        "  feedback =\"Not online yet\"\n",
        "  return feedback\n",
        "\n",
        "iface = gr.Interface(\n",
        "    fn=process_interview,\n",
        "    inputs=[\n",
        "        gr.Dropdown(label=\"Select Interview Question\", choices=interview_prompts),\n",
        "        gr.Textbox(label=\"Job Description (Optional)\"),\n",
        "        gr.Button(value=\"Get Feedback\", elem_id=\"get_feedback_button\"),  # Button to trigger processing\n",
        "    ],\n",
        "    outputs=\"text\",\n",
        "    title=\"Ask Wendy - Young Women's Trust Interview Advisor\",\n",
        "    description=\"\"\"Refine your interview techniques and receive personalised feedback on your responses:\n",
        "\n",
        "1. Select an interview question.\n",
        "2. Optionally, include the job description.\n",
        "3. Click the 'Get Feedback' button.\n",
        "\n",
        "AskWendy will analyse your response and provide feedback on the strengths and areas for improvement, aligning with the job description.\"\"\",\n",
        ")\n",
        "\n",
        "# Disable text input box by default (optional)\n",
        "#text_input = iface.widgets[1]  # Get the textbox element (second input)\n",
        "#text_input.visible = False  # Hide the textbox initially\n",
        "\n",
        "# Function to handle button click and trigger processing based on microphone input\n",
        "def get_feedback_button_click(btn):\n",
        "  feedback = process_interview(iface.inputs[0].value)  # Get question ID from dropdown\n",
        "  iface.outputs.text = feedback  # Update text output with feedback\n",
        "\n",
        "# Connect the button click event to the function\n",
        "#button = iface.widgets[3]  # Get the button element (fourth input)\n",
        "#button.click_event(get_feedback_button_click)\n",
        "\n",
        "iface.launch()\n"
      ]
    },
    {
      "cell_type": "code",
      "execution_count": null,
      "metadata": {
        "id": "oOhP-ExBFy7F"
      },
      "outputs": [],
      "source": []
    }
  ],
  "metadata": {
    "colab": {
      "provenance": [],
      "toc_visible": true
    },
    "kernelspec": {
      "display_name": "Python 3",
      "name": "python3"
    },
    "language_info": {
      "name": "python"
    }
  },
  "nbformat": 4,
  "nbformat_minor": 0
}
